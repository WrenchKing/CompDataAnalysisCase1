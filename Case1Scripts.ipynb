{
 "cells": [
  {
   "cell_type": "code",
   "execution_count": 25,
   "metadata": {},
   "outputs": [],
   "source": [
    "import numpy as np\n",
    "import sklearn\n",
    "from sklearn.linear_model import LinearRegression, LogisticRegression, Ridge, Lasso, ElasticNet\n",
    "from sklearn.neighbors import KNeighborsClassifier\n",
    "from sklearn.utils import resample\n",
    "from sklearn.ensemble import RandomForestRegressor\n",
    "from scipy.sparse import coo_matrix\n",
    "from sklearn.model_selection import train_test_split, RandomizedSearchCV, GridSearchCV\n",
    "from pandas import get_dummies, DataFrame"
   ]
  },
  {
   "cell_type": "code",
   "execution_count": 2,
   "metadata": {},
   "outputs": [],
   "source": [
    "\n",
    "\n",
    "f=open('../Case Data/case1Data.txt','r')\n",
    "data=f.read()\n",
    "data1=data.split('\\n')\n",
    "arr=[]\n",
    "for i in range(101):\n",
    "    arr.append(data1[i].split(', '))\n",
    "    \n"
   ]
  },
  {
   "cell_type": "code",
   "execution_count": 3,
   "metadata": {},
   "outputs": [],
   "source": [
    "header=arr[0]\n",
    "arr=arr[1:]\n",
    "number_cols=[x[0:96] for x in arr]\n",
    "class_cols=[x[96:] for x in arr]\n",
    "y=np.array([x[0] for x in number_cols],dtype='float64')\n",
    "x=np.array([x[1:] for x in number_cols],dtype='float64')\n",
    "x_class=np.array(class_cols)\n",
    "\n",
    "# one hot encoding\n",
    "\n",
    "\n",
    "\n"
   ]
  },
  {
   "cell_type": "code",
   "execution_count": 34,
   "metadata": {},
   "outputs": [],
   "source": [
    "# # nan stuff\n",
    "\n",
    "# c1=x_class[:,0]\n",
    "# c2=x_class[:,1]\n",
    "# c3=x_class[:,2]\n",
    "# c4=x_class[:,3]\n",
    "# c5=x_class[:,4]\n",
    "\n",
    "# # for i in [c1,c2,c3,c4,c5]: \n",
    "# #     unique, counts = np.unique(i, return_counts=True)\n",
    "# #     print (np.asarray((unique, counts)).T)\n",
    "\n",
    "# count=0\n",
    "# for i in range(101):\n",
    "#     print(x_class[i])\n",
    "# print(count)"
   ]
  },
  {
   "cell_type": "code",
   "execution_count": 4,
   "metadata": {},
   "outputs": [],
   "source": [
    "# KNN\n",
    "x_class_no_nans = x_class.copy()\n",
    "def get_x_and_y(i):\n",
    "    nans=np.where(i=='NaN')\n",
    "    x_tmp = np.delete(x.copy(),nans,axis=0)\n",
    "    y_tmp = np.delete(i.copy(),nans)\n",
    "    return (x_tmp,y_tmp)\n",
    "\n",
    "ns = range(1,25) #[1,3,5,10,20,60]\n",
    "times_to_repeat = 200 \n",
    "accuracy = np.zeros((x_class.shape[1],len(ns)))\n",
    "\n",
    "for n_index, n in enumerate(ns):\n",
    "    for col_index, col in enumerate(x_class.T):\n",
    "        err = 0\n",
    "        for loop in range(times_to_repeat):\n",
    "            x_tmp,y_tmp = get_x_and_y(col)\n",
    "            x_tmp, y_tmp = resample(x_tmp, y_tmp,n_samples=100)\n",
    "            x_train, x_test,y_train, y_test = train_test_split(x_tmp,y_tmp,test_size=0.25)\n",
    "            knn = KNeighborsClassifier(n_neighbors=n).fit(x_train,y_train)\n",
    "            err += knn.score(x_test,y_test)\n",
    "        err /= times_to_repeat\n",
    "        accuracy[col_index, n_index] = err"
   ]
  },
  {
   "cell_type": "code",
   "execution_count": 5,
   "metadata": {},
   "outputs": [],
   "source": [
    "# y_pred = knn.predict(x[nans])\n",
    "\n",
    "for col_index, col in enumerate(x_class.T):\n",
    "    best_k = np.argmax(accuracy[col_index]) + 1\n",
    "    x_tmp,y_tmp = get_x_and_y(col)\n",
    "    nans=np.where(col=='NaN')\n",
    "    y_pred = KNeighborsClassifier(n_neighbors=best_k).fit(x_tmp,y_tmp).predict(x[nans])\n",
    "    x_class_no_nans[nans,col_index] = y_pred"
   ]
  },
  {
   "cell_type": "code",
   "execution_count": 6,
   "metadata": {},
   "outputs": [],
   "source": [
    "x_classes_one_hot = get_dummies(DataFrame(x_class_no_nans)).to_numpy()\n",
    "\n",
    "x_knn = np.concatenate((x,x_classes_one_hot),axis=1)\n",
    "\n",
    "x_one_hot = np.concatenate((x,get_dummies(DataFrame(x_class)).to_numpy()), axis=1)"
   ]
  },
  {
   "cell_type": "code",
   "execution_count": 7,
   "metadata": {},
   "outputs": [],
   "source": [
    "\n",
    "def rmse(y_true,y_pred):\n",
    "    return np.sqrt(sklearn.metrics.mean_squared_error(y_true, y_pred))\n",
    "   \n",
    "\n",
    "def train_model(model,x,y=y):\n",
    "    #Linear Regression\n",
    "    x_train, x_test,y_train, y_test = train_test_split(x,y,test_size=0.25, random_state=0)\n",
    "    m = model.fit(x_train, y_train)\n",
    "    y_pred = m.predict(x_test)\n",
    "    return rmse(y_test,y_pred)\n",
    "\n",
    "\n",
    "lin_reg_rmse = train_model(LinearRegression(fit_intercept=True,normalize=True, copy_X=True, n_jobs=None), x_knn)\n",
    "lin_reg_rmse_no_classes = train_model(LinearRegression(fit_intercept=True,normalize=True, copy_X=True, n_jobs=None), x)\n",
    "lin_reg_rmse_no_knn = train_model(LinearRegression(fit_intercept=True,normalize=True, copy_X=True, n_jobs=None), x_one_hot)"
   ]
  },
  {
   "cell_type": "code",
   "execution_count": 15,
   "metadata": {},
   "outputs": [],
   "source": [
    "times_to_repeat = 200 \n",
    "\n",
    "def calc_accuracy(model_func, alpha, x_one=x_one_hot):\n",
    "    accuracy = np.zeros((len(alpha)))\n",
    "    for loop in range(times_to_repeat):\n",
    "        err = 0\n",
    "        for n_index, n in enumerate(alpha):\n",
    "            x_train, x_test,y_train, y_test = train_test_split(x_one,y,test_size=0.25)\n",
    "            model = model_func(n).fit(x_train,y_train)\n",
    "            y_pred =  model.predict(x_test)\n",
    "            accuracy[n_index] += (np.sum(y_test - y_pred)**2) / len(y_test)\n",
    "    accuracy /= times_to_repeat\n",
    "    return accuracy\n",
    "lambdas = np.logspace(-5,3,100)\n",
    "\n",
    "#Ridge Regression\n",
    "ridge_accuracy = calc_accuracy(Ridge, lambdas)\n",
    "\n",
    "#Lasso Regression \n",
    "lasso_accuracy = calc_accuracy(Lasso, lambdas)"
   ]
  },
  {
   "cell_type": "code",
   "execution_count": 19,
   "metadata": {},
   "outputs": [],
   "source": [
    "#Elastic Regression\n",
    "K = range(0,11,1)\n",
    "accuracy = np.zeros((len(lambdas),len(K)))\n",
    "for loop in range(times_to_repeat):\n",
    "    err = 0\n",
    "    for acc_index, acc in enumerate(K):\n",
    "        for n_index, n in enumerate(lambdas):\n",
    "            x_train, x_test,y_train, y_test = train_test_split(x_one_hot,y,test_size=0.25)\n",
    "            model = ElasticNet(n, l1_ratio=acc).fit(x_train,y_train)\n",
    "            y_pred =  model.predict(x_test)\n",
    "            accuracy[n_index,acc_index] += (np.sum(y_test - y_pred)**2) / len(y_test)\n",
    "accuracy /= times_to_repeat\n",
    "elastic_accuracy = accuracy"
   ]
  },
  {
   "cell_type": "code",
   "execution_count": 22,
   "metadata": {},
   "outputs": [],
   "source": [
    "n_estimators = [int(x) for x in np.linspace(start = 100, stop = 2000, num = 20)]\n",
    "# Number of features to consider at every split\n",
    "max_features = ['auto', 'sqrt']\n",
    "# Maximum number of levels in tree\n",
    "max_depth = [int(x) for x in np.linspace(10, 110, num = 11)]\n",
    "max_depth.append(None)\n",
    "# Minimum number of samples required to split a node\n",
    "min_samples_split = range(1,15,3)\n",
    "# Minimum number of samples required at each leaf node\n",
    "min_samples_leaf = range(1,304,5)\n",
    "# Method of selecting samples for training each tree\n",
    "bootstrap = [True, False]# Create the random grid\n",
    "random_grid = {'n_estimators': n_estimators,\n",
    "               'max_features': max_features,\n",
    "               'max_depth': max_depth,\n",
    "               'min_samples_split': min_samples_split,\n",
    "               'min_samples_leaf': min_samples_leaf,\n",
    "               'bootstrap': bootstrap}"
   ]
  },
  {
   "cell_type": "code",
   "execution_count": 28,
   "metadata": {},
   "outputs": [
    {
     "name": "stdout",
     "output_type": "stream",
     "text": "Fitting 3 folds for each of 100 candidates, totalling 300 fits\n[Parallel(n_jobs=-1)]: Using backend LokyBackend with 12 concurrent workers.\n[Parallel(n_jobs=-1)]: Done  17 tasks      | elapsed:   12.7s\n[Parallel(n_jobs=-1)]: Done 138 tasks      | elapsed:   54.1s\n[Parallel(n_jobs=-1)]: Done 300 out of 300 | elapsed:  1.8min finished\n"
    },
    {
     "data": {
      "text/plain": "{'n_estimators': 500,\n 'min_samples_split': 13,\n 'min_samples_leaf': 6,\n 'max_features': 'auto',\n 'max_depth': 50,\n 'bootstrap': True}"
     },
     "execution_count": 28,
     "metadata": {},
     "output_type": "execute_result"
    }
   ],
   "source": [
    "x_train, x_test,y_train, y_test = train_test_split(x_one_hot,y,test_size=0.25, random_state=0)\n",
    "\n",
    "rf_random = RandomizedSearchCV(estimator = rf, param_distributions = random_grid, n_iter = 100, cv = 3, verbose=2, random_state=42, n_jobs = -1)# Fit the random search model\n",
    "rf_random.fit(x_train, y_train)\n",
    "rf_random.best_params_"
   ]
  },
  {
   "cell_type": "code",
   "execution_count": 29,
   "metadata": {},
   "outputs": [],
   "source": [
    "def evaluate(model, test_features, test_labels):\n",
    "    predictions = model.predict(test_features)\n",
    "    errors = abs(predictions - test_labels)\n",
    "    accuracy = 100 - (100 * np.mean(errors / test_labels))\n",
    "    print('Model Performance')\n",
    "    print('Average Error: {:0.4f} degrees.'.format(np.mean(errors)))\n",
    "    print('Accuracy = {:0.2f}%.'.format(accuracy))\n",
    "    \n",
    "    return accuracy"
   ]
  },
  {
   "cell_type": "code",
   "execution_count": 30,
   "metadata": {},
   "outputs": [
    {
     "name": "stdout",
     "output_type": "stream",
     "text": "Model Performance\nAverage Error: 2.8567 degrees.\nAccuracy = 73.52%.\nModel Performance\nAverage Error: 2.8234 degrees.\nAccuracy = 91.35%.\nImprovement of 24.25%.\n"
    }
   ],
   "source": [
    "\n",
    "# Test if random model is actually better than the base model\n",
    "\n",
    "base_model = RandomForestRegressor(n_estimators = 10, random_state = 42)\n",
    "base_model.fit(x_train, y_train)\n",
    "base_accuracy = evaluate(base_model, x_test, y_test)\n",
    "\n",
    "best_random = rf_random.best_estimator_\n",
    "random_accuracy = evaluate(best_random, x_test, y_test)\n",
    "\n",
    "print('Improvement of {:0.2f}%.'.format( 100 * (random_accuracy - base_accuracy) / base_accuracy))"
   ]
  },
  {
   "cell_type": "code",
   "execution_count": 33,
   "metadata": {},
   "outputs": [
    {
     "name": "stdout",
     "output_type": "stream",
     "text": "Fitting 5 folds for each of 30420 candidates, totalling 152100 fits\n[Parallel(n_jobs=-1)]: Using backend LokyBackend with 12 concurrent workers.\n[Parallel(n_jobs=-1)]: Done  17 tasks      | elapsed:    6.4s\n[Parallel(n_jobs=-1)]: Done 138 tasks      | elapsed:   34.2s\n[Parallel(n_jobs=-1)]: Done 341 tasks      | elapsed:  1.7min\n[Parallel(n_jobs=-1)]: Done 624 tasks      | elapsed:  3.1min\n[Parallel(n_jobs=-1)]: Done 989 tasks      | elapsed:  4.8min\n[Parallel(n_jobs=-1)]: Done 1434 tasks      | elapsed:  6.4min\n[Parallel(n_jobs=-1)]: Done 1961 tasks      | elapsed:  8.3min\n[Parallel(n_jobs=-1)]: Done 2568 tasks      | elapsed: 10.4min\n[Parallel(n_jobs=-1)]: Done 3257 tasks      | elapsed: 12.7min\n[Parallel(n_jobs=-1)]: Done 4026 tasks      | elapsed: 15.1min\n"
    }
   ],
   "source": [
    "#Random Forest\n",
    "param_grid = {\n",
    "    'min_samples_leaf': range(1,10),\n",
    "    'max_depth': range(40,66),\n",
    "    'min_samples_split': range(6,19),\n",
    "    'n_estimators': range(400,600,20),\n",
    "}\n",
    "\n",
    "rf = RandomForestRegressor()\n",
    "grid_search = GridSearchCV(estimator = rf, param_grid = param_grid, cv = 5, n_jobs = -1, verbose = 2)\n",
    "\n",
    "# Fit the grid search model\n",
    "grid_search.fit(x_train, y_train)\n"
   ]
  },
  {
   "cell_type": "code",
   "execution_count": null,
   "metadata": {},
   "outputs": [],
   "source": [
    "print(f'best estimator: {cv_grid.best_estimator_}')\n",
    "print('Improvement of {:0.2f}% over the random estimator'.format( 100 * (grid_accuracy - random_accuracy) / random_accuracy))"
   ]
  },
  {
   "cell_type": "code",
   "execution_count": null,
   "metadata": {},
   "outputs": [],
   "source": [
    "\n",
    "\n",
    "\n",
    "rf = RandomForestRegressor(n_estimators = 1000, random_state = 42)# Train the model on training data\n",
    "rf.fit(train_features, train_labels);\n",
    "\n",
    "print(f'best estimator: {cv_grid.best_estimator_}')"
   ]
  }
 ],
 "metadata": {
  "kernelspec": {
   "display_name": "Python 3",
   "language": "python",
   "name": "python3"
  },
  "language_info": {
   "codemirror_mode": {
    "name": "ipython",
    "version": 3
   },
   "file_extension": ".py",
   "mimetype": "text/x-python",
   "name": "python",
   "nbconvert_exporter": "python",
   "pygments_lexer": "ipython3",
   "version": "3.7.7-final"
  }
 },
 "nbformat": 4,
 "nbformat_minor": 2
}