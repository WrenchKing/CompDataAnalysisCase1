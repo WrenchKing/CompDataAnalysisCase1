{
 "cells": [
  {
   "cell_type": "code",
   "execution_count": 1,
   "metadata": {},
   "outputs": [],
   "source": [
    "import numpy as np\n",
    "import sklearn\n",
    "from sklearn.linear_model import LinearRegression,LogisticRegression\n",
    "from sklearn.neighbors import KNeighborsClassifier\n",
    "from sklearn.utils import resample\n",
    "from scipy.sparse import coo_matrix\n",
    "from sklearn.model_selection import train_test_split"
   ]
  },
  {
   "cell_type": "code",
   "execution_count": 2,
   "metadata": {},
   "outputs": [],
   "source": [
    "\n",
    "\n",
    "f=open('../Case Data/case1Data.txt','r')\n",
    "data=f.read()\n",
    "data1=data.split('\\n')\n",
    "arr=[]\n",
    "for i in range(101):\n",
    "    arr.append(data1[i].split(', '))\n",
    "    \n"
   ]
  },
  {
   "cell_type": "code",
   "execution_count": 3,
   "metadata": {},
   "outputs": [],
   "source": [
    "header=arr[0]\n",
    "arr=arr[1:]\n",
    "number_cols=[x[0:96] for x in arr]\n",
    "class_cols=[x[96:] for x in arr]\n",
    "y=np.array([x[0] for x in number_cols],dtype='float64')\n",
    "x=np.array([x[1:] for x in number_cols],dtype='float64')\n",
    "x_class=np.array(class_cols)\n",
    "\n",
    "# one hot encoding\n",
    "\n",
    "\n",
    "\n"
   ]
  },
  {
   "cell_type": "code",
   "execution_count": 8,
   "metadata": {},
   "outputs": [],
   "source": [
    "# # nan stuff\n",
    "\n",
    "# c1=x_class[:,0]\n",
    "# c2=x_class[:,1]\n",
    "# c3=x_class[:,2]\n",
    "# c4=x_class[:,3]\n",
    "# c5=x_class[:,4]\n",
    "\n",
    "# # for i in [c1,c2,c3,c4,c5]: \n",
    "# #     unique, counts = np.unique(i, return_counts=True)\n",
    "# #     print (np.asarray((unique, counts)).T)\n",
    "\n",
    "# count=0\n",
    "# for i in range(101):\n",
    "#     print(x_class[i])\n",
    "# print(count)"
   ]
  },
  {
   "cell_type": "code",
   "execution_count": 4,
   "metadata": {},
   "outputs": [
    {
     "ename": "NameError",
     "evalue": "name 'nans' is not defined",
     "output_type": "error",
     "traceback": [
      "\u001b[0;31m---------------------------------------------------------------------------\u001b[0m",
      "\u001b[0;31mNameError\u001b[0m                                 Traceback (most recent call last)",
      "\u001b[0;32m<ipython-input-4-fac7932ef8f5>\u001b[0m in \u001b[0;36m<module>\u001b[0;34m\u001b[0m\n\u001b[1;32m     29\u001b[0m \u001b[0;32mfor\u001b[0m \u001b[0mcol\u001b[0m \u001b[0;32min\u001b[0m \u001b[0mx_class\u001b[0m\u001b[0;34m.\u001b[0m\u001b[0mT\u001b[0m\u001b[0;34m:\u001b[0m\u001b[0;34m\u001b[0m\u001b[0;34m\u001b[0m\u001b[0m\n\u001b[1;32m     30\u001b[0m     \u001b[0mx_tmp\u001b[0m\u001b[0;34m,\u001b[0m\u001b[0my_tmp\u001b[0m \u001b[0;34m=\u001b[0m \u001b[0mget_x_and_y\u001b[0m\u001b[0;34m(\u001b[0m\u001b[0mcol\u001b[0m\u001b[0;34m)\u001b[0m\u001b[0;34m\u001b[0m\u001b[0;34m\u001b[0m\u001b[0m\n\u001b[0;32m---> 31\u001b[0;31m     \u001b[0my_pred\u001b[0m \u001b[0;34m=\u001b[0m \u001b[0mKNeighborsClassifier\u001b[0m\u001b[0;34m(\u001b[0m\u001b[0;34m)\u001b[0m\u001b[0;34m.\u001b[0m\u001b[0mfit\u001b[0m\u001b[0;34m(\u001b[0m\u001b[0mx_tmp\u001b[0m\u001b[0;34m,\u001b[0m\u001b[0my_tmp\u001b[0m\u001b[0;34m)\u001b[0m\u001b[0;34m.\u001b[0m\u001b[0mpredict\u001b[0m\u001b[0;34m(\u001b[0m\u001b[0mx\u001b[0m\u001b[0;34m[\u001b[0m\u001b[0mnans\u001b[0m\u001b[0;34m]\u001b[0m\u001b[0;34m)\u001b[0m\u001b[0;34m\u001b[0m\u001b[0;34m\u001b[0m\u001b[0m\n\u001b[0m\u001b[1;32m     32\u001b[0m \u001b[0;34m\u001b[0m\u001b[0m\n\u001b[1;32m     33\u001b[0m     \u001b[0mx_class_no_nans\u001b[0m\u001b[0;34m[\u001b[0m\u001b[0mnans\u001b[0m\u001b[0;34m,\u001b[0m\u001b[0mcol\u001b[0m\u001b[0;34m]\u001b[0m \u001b[0;34m=\u001b[0m \u001b[0my_pred\u001b[0m\u001b[0;34m\u001b[0m\u001b[0;34m\u001b[0m\u001b[0m\n",
      "\u001b[0;31mNameError\u001b[0m: name 'nans' is not defined"
     ]
    }
   ],
   "source": [
    "# TODO: Figure out what is wrong with accuracy\n",
    "\n",
    "# KNN\n",
    "x_class_no_nans = x_class.copy()\n",
    "def get_x_and_y(i):\n",
    "    nans=np.where(i=='NaN')\n",
    "    x_tmp = np.delete(x.copy(),nans,axis=0)\n",
    "    y_tmp = np.delete(i.copy(),nans)\n",
    "    return (x_tmp,y_tmp)\n",
    "\n",
    "ns = range(1,75) #[1,3,5,10,20,60]\n",
    "times_to_repeat = 200 \n",
    "accuracy = np.zeros((x_class.shape[1],len(ns)))\n",
    "\n",
    "for n_index, n in enumerate(ns):\n",
    "    for col_index, col in enumerate(x_class.T):\n",
    "        err = 0\n",
    "        for loop in range(times_to_repeat):\n",
    "            x_tmp,y_tmp = get_x_and_y(col)\n",
    "            x_tmp, y_tmp = resample(x_tmp, y_tmp,n_samples=100)\n",
    "            x_train, x_test,y_train, y_test = train_test_split(x_tmp,y_tmp,test_size=0.25)\n",
    "            knn = KNeighborsClassifier(n_neighbors=n).fit(x_train,y_train)\n",
    "            err += knn.score(x_test,y_test)\n",
    "        err /= times_to_repeat\n",
    "        accuracy[col_index, n_index] = err\n",
    "\n",
    "\n",
    "\n",
    "# y_pred = knn.predict(x[nans])\n",
    "\n",
    "for col in x_class.T:\n",
    "    x_tmp,y_tmp = get_x_and_y(col)\n",
    "    y_pred = KNeighborsClassifier().fit(x_tmp,y_tmp).predict(x[nans])\n",
    "\n",
    "    x_class_no_nans[nans,col] = y_pred\n",
    "    print(y_pred)\n",
    "    print(nans[0].shape)"
   ]
  },
  {
   "cell_type": "code",
   "execution_count": 5,
   "metadata": {},
   "outputs": [],
   "source": [
    "accuracy = accuracy.T"
   ]
  },
  {
   "cell_type": "code",
   "execution_count": 6,
   "metadata": {},
   "outputs": [
    {
     "data": {
      "text/plain": "array([0, 0, 0, 0, 0])"
     },
     "execution_count": 6,
     "metadata": {},
     "output_type": "execute_result"
    }
   ],
   "source": [
    "np.argmax(accuracy, axis=0)"
   ]
  },
  {
   "cell_type": "code",
   "execution_count": null,
   "metadata": {},
   "outputs": [],
   "source": [
    "#Linear Regression\n",
    "\n",
    "model = LinearRegression(fit_intercept=True,normalize=True, copy_X=True, n_jobs=None) \n",
    "model.fit(x, y)\n",
    "y_pred = model.predict(x)\n",
    "\n",
    "def rmse(y_true,y_pred):\n",
    "    return np.sqrt(sklearn.metrics.mean_squared_error(y_true, y_pred))\n",
    "   \n",
    "lin_reg_rmse=rmse(y,y_pred)\n",
    "    \n",
    "    \n",
    "\n",
    "#Logistic Regression\n",
    "log_reg_l1=LogisticRegression(penalty='l1',solver='liblinear',random_state=23)\n",
    "log_reg_l2=LogisticRegression(penalty='l2',random_state=23)\n",
    "log_reg_elastic=LogisticRegression(penalty='elasticnet',random_state=23)\n",
    "\n",
    "\n",
    "log_reg_l1.fit(x,y)\n",
    "log_reg_l2.fit(x,y)\n",
    "log_reg_elastic.fit(x,y)\n",
    "\n",
    "log_l1_rmse=rmse(y,log_reg_l1.predict(x))\n",
    "log_l2_rmse=rmse(y,log_reg_l2.predict(x))\n",
    "log_elastic_rmse=rmse(y,log_reg_elastic.predict(x))\n",
    "\n",
    "\n",
    "print(log_l1_rmse)\n",
    "print(log_l2_rmse)\n",
    "print(log_elastic_rmse)\n",
    "\n",
    "\n",
    "\n",
    "#Ridge Regression\n",
    "\n",
    "\n",
    "\n",
    "\n",
    "\n",
    "#Lasso Regression \n",
    "\n",
    "\n",
    "\n",
    "\n",
    "\n",
    "#Elastic Regression\n",
    "\n",
    "\n",
    "\n",
    "\n",
    "\n",
    "\n",
    "\n",
    "\n",
    "\n",
    "\n",
    "\n"
   ]
  },
  {
   "cell_type": "code",
   "execution_count": null,
   "metadata": {},
   "outputs": [],
   "source": [
    "lin_reg_rsmse"
   ]
  },
  {
   "cell_type": "code",
   "execution_count": null,
   "metadata": {},
   "outputs": [],
   "source": [
    "print(type(x))\n",
    "\n",
    "print(type(y))"
   ]
  },
  {
   "cell_type": "code",
   "execution_count": null,
   "metadata": {},
   "outputs": [],
   "source": [
    "\n",
    "#KNN \n",
    "\n",
    "\n",
    "\n"
   ]
  },
  {
   "cell_type": "code",
   "execution_count": null,
   "metadata": {},
   "outputs": [],
   "source": [
    "#LDA\n",
    "\n",
    "\n",
    "#Regularized \n",
    "\n",
    "\n",
    "\n",
    "\n",
    "\n",
    "\n",
    "\n",
    "\n",
    "\n",
    "\n",
    "\n",
    "\n",
    "\n"
   ]
  },
  {
   "cell_type": "code",
   "execution_count": null,
   "metadata": {},
   "outputs": [],
   "source": []
  },
  {
   "cell_type": "code",
   "execution_count": null,
   "metadata": {},
   "outputs": [],
   "source": []
  }
 ],
 "metadata": {
  "kernelspec": {
   "display_name": "Python 3",
   "language": "python",
   "name": "python3"
  },
  "language_info": {
   "codemirror_mode": {
    "name": "ipython",
    "version": 3
   },
   "file_extension": ".py",
   "mimetype": "text/x-python",
   "name": "python",
   "nbconvert_exporter": "python",
   "pygments_lexer": "ipython3",
   "version": "3.7.7-final"
  }
 },
 "nbformat": 4,
 "nbformat_minor": 2
}