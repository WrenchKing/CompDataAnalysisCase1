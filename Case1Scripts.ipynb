{
 "cells": [
  {
   "cell_type": "code",
   "execution_count": 69,
   "metadata": {},
   "outputs": [],
   "source": [
    "import numpy as np\n",
    "import sklearn\n",
    "from sklearn.linear_model import LinearRegression,LogisticRegression,Ridge\n",
    "from sklearn.neighbors import KNeighborsClassifier\n",
    "from sklearn.utils import resample\n",
    "from scipy.sparse import coo_matrix\n",
    "from sklearn.model_selection import train_test_split\n",
    "from pandas import get_dummies, DataFrame"
   ]
  },
  {
   "cell_type": "code",
   "execution_count": 32,
   "metadata": {},
   "outputs": [],
   "source": [
    "\n",
    "\n",
    "f=open('../Case Data/case1Data.txt','r')\n",
    "data=f.read()\n",
    "data1=data.split('\\n')\n",
    "arr=[]\n",
    "for i in range(101):\n",
    "    arr.append(data1[i].split(', '))\n",
    "    \n"
   ]
  },
  {
   "cell_type": "code",
   "execution_count": 33,
   "metadata": {},
   "outputs": [],
   "source": [
    "header=arr[0]\n",
    "arr=arr[1:]\n",
    "number_cols=[x[0:96] for x in arr]\n",
    "class_cols=[x[96:] for x in arr]\n",
    "y=np.array([x[0] for x in number_cols],dtype='float64')\n",
    "x=np.array([x[1:] for x in number_cols],dtype='float64')\n",
    "x_class=np.array(class_cols)\n",
    "\n",
    "# one hot encoding\n",
    "\n",
    "\n",
    "\n"
   ]
  },
  {
   "cell_type": "code",
   "execution_count": 34,
   "metadata": {},
   "outputs": [],
   "source": [
    "# # nan stuff\n",
    "\n",
    "# c1=x_class[:,0]\n",
    "# c2=x_class[:,1]\n",
    "# c3=x_class[:,2]\n",
    "# c4=x_class[:,3]\n",
    "# c5=x_class[:,4]\n",
    "\n",
    "# # for i in [c1,c2,c3,c4,c5]: \n",
    "# #     unique, counts = np.unique(i, return_counts=True)\n",
    "# #     print (np.asarray((unique, counts)).T)\n",
    "\n",
    "# count=0\n",
    "# for i in range(101):\n",
    "#     print(x_class[i])\n",
    "# print(count)"
   ]
  },
  {
   "cell_type": "code",
   "execution_count": 35,
   "metadata": {},
   "outputs": [],
   "source": [
    "# TODO: Figure out what is wrong with accuracy\n",
    "\n",
    "# KNN\n",
    "x_class_no_nans = x_class.copy()\n",
    "def get_x_and_y(i):\n",
    "    nans=np.where(i=='NaN')\n",
    "    x_tmp = np.delete(x.copy(),nans,axis=0)\n",
    "    y_tmp = np.delete(i.copy(),nans)\n",
    "    return (x_tmp,y_tmp)\n",
    "\n",
    "ns = range(1,25) #[1,3,5,10,20,60]\n",
    "times_to_repeat = 200 \n",
    "accuracy = np.zeros((x_class.shape[1],len(ns)))\n",
    "\n",
    "for n_index, n in enumerate(ns):\n",
    "    for col_index, col in enumerate(x_class.T):\n",
    "        err = 0\n",
    "        for loop in range(times_to_repeat):\n",
    "            x_tmp,y_tmp = get_x_and_y(col)\n",
    "            x_tmp, y_tmp = resample(x_tmp, y_tmp,n_samples=100)\n",
    "            x_train, x_test,y_train, y_test = train_test_split(x_tmp,y_tmp,test_size=0.25)\n",
    "            knn = KNeighborsClassifier(n_neighbors=n).fit(x_train,y_train)\n",
    "            err += knn.score(x_test,y_test)\n",
    "        err /= times_to_repeat\n",
    "        accuracy[col_index, n_index] = err"
   ]
  },
  {
   "cell_type": "code",
   "execution_count": 36,
   "metadata": {},
   "outputs": [],
   "source": [
    "# y_pred = knn.predict(x[nans])\n",
    "\n",
    "for col_index, col in enumerate(x_class.T):\n",
    "    best_k = np.argmax(accuracy[col_index]) + 1\n",
    "    x_tmp,y_tmp = get_x_and_y(col)\n",
    "    nans=np.where(col=='NaN')\n",
    "    y_pred = KNeighborsClassifier(n_neighbors=best_k).fit(x_tmp,y_tmp).predict(x[nans])\n",
    "    x_class_no_nans[nans,col_index] = y_pred"
   ]
  },
  {
   "cell_type": "code",
   "execution_count": 71,
   "metadata": {},
   "outputs": [],
   "source": [
    "x_classes_one_hot = get_dummies(DataFrame(x_class_no_nans)).to_numpy()\n",
    "\n",
    "x_knn = np.concatenate((x,x_classes_one_hot),axis=1)\n",
    "\n",
    "x_one_hot = np.concatenate((x,get_dummies(DataFrame(x_class)).to_numpy()), axis=1)"
   ]
  },
  {
   "cell_type": "code",
   "execution_count": 72,
   "metadata": {},
   "outputs": [],
   "source": [
    "\n",
    "def rmse(y_true,y_pred):\n",
    "    return np.sqrt(sklearn.metrics.mean_squared_error(y_true, y_pred))\n",
    "   \n",
    "\n",
    "def train_model(model,x,y=y):\n",
    "    #Linear Regression\n",
    "    x_train, x_test,y_train, y_test = train_test_split(x,y,test_size=0.25, random_state=0)\n",
    "    m = model.fit(x_train, y_train)\n",
    "    y_pred = m.predict(x_test)\n",
    "    return rmse(y_test,y_pred)\n",
    "\n",
    "\n",
    "lin_reg_rmse = train_model(LinearRegression(fit_intercept=True,normalize=True, copy_X=True, n_jobs=None), x_knn)\n",
    "lin_reg_rmse_no_classes = train_model(LinearRegression(fit_intercept=True,normalize=True, copy_X=True, n_jobs=None), x)\n",
    "lin_reg_rmse_no_knn = train_model(LinearRegression(fit_intercept=True,normalize=True, copy_X=True, n_jobs=None), x_one_hot)"
   ]
  },
  {
   "cell_type": "code",
   "execution_count": 81,
   "metadata": {},
   "outputs": [
    {
     "data": {
      "text/plain": "array([5.60898031e+02, 5.22440716e+02, 4.89463995e+02, 4.09974531e+02,\n       5.21432176e+02, 5.64007346e+02, 4.65959280e+02, 3.20365782e+02,\n       3.84531883e+02, 3.47064018e+02, 2.40065019e+02, 2.34605377e+02,\n       2.08171156e+02, 1.41037648e+02, 1.05662309e+02, 8.95497320e+01,\n       9.45578158e+01, 7.36484967e+01, 5.75488337e+01, 5.96846383e+01,\n       4.46638005e+01, 4.37581397e+01, 4.18134235e+01, 3.57752929e+01,\n       4.40244586e+01, 3.12808642e+01, 4.01616907e+01, 3.69788934e+01,\n       3.40434959e+01, 3.37510223e+01, 1.00000000e-04, 1.74332882e-04,\n       3.03919538e-04, 5.29831691e-04, 9.23670857e-04, 1.61026203e-03,\n       2.80721620e-03, 4.89390092e-03, 8.53167852e-03, 1.48735211e-02,\n       2.59294380e-02, 4.52035366e-02, 7.88046282e-02, 1.37382380e-01,\n       2.39502662e-01, 4.17531894e-01, 7.27895384e-01, 1.26896100e+00,\n       2.21221629e+00, 3.85662042e+00, 6.72335754e+00, 1.17210230e+01,\n       2.04335972e+01, 3.56224789e+01, 6.21016942e+01, 1.08263673e+02,\n       1.88739182e+02, 3.29034456e+02, 5.73615251e+02, 1.00000000e+03])"
     },
     "execution_count": 81,
     "metadata": {},
     "output_type": "execute_result"
    }
   ],
   "source": [
    "#Ridge Regression\n",
    "\n",
    "lambdas = np.logspace(-4,3,30)\n",
    "times_to_repeat = 200 \n",
    "accuracy = np.zeros((len(lambdas)))\n",
    "\n",
    "for loop in range(times_to_repeat):\n",
    "    err = 0\n",
    "    for n_index, n in enumerate(lambdas):\n",
    "        x_train, x_test,y_train, y_test = train_test_split(x_one_hot,y,test_size=0.25)\n",
    "        model = Ridge(n).fit(x_train,y_train)\n",
    "        y_pred =  model.predict(x_test)\n",
    "        accuracy[n_index] += (np.sum(y_test - y_pred)**2) / len(y_test)\n",
    "\n",
    "accuracy /= times_to_repeat\n",
    "\n",
    "\n",
    "\n",
    "\n",
    "#Lasso Regression \n",
    "\n",
    "\n",
    "\n",
    "\n",
    "\n",
    "#Elastic Regression\n",
    "\n",
    "\n",
    "\n",
    "#Random Forest"
   ]
  },
  {
   "cell_type": "code",
   "execution_count": 96,
   "metadata": {},
   "outputs": [],
   "source": [
    "a = np.concatenate((accuracy.reshape((1,len(accuracy))),lambdas.reshape((1,len(accuracy)))),axis=0).T"
   ]
  },
  {
   "cell_type": "code",
   "execution_count": null,
   "metadata": {},
   "outputs": [],
   "source": [
    "\n",
    "#KNN \n",
    "\n",
    "\n",
    "\n"
   ]
  },
  {
   "cell_type": "code",
   "execution_count": null,
   "metadata": {},
   "outputs": [],
   "source": [
    "#LDA\n",
    "\n",
    "\n",
    "#Regularized \n",
    "\n",
    "\n",
    "\n",
    "\n",
    "\n",
    "\n",
    "\n",
    "\n",
    "\n",
    "\n",
    "\n",
    "\n",
    "\n"
   ]
  },
  {
   "cell_type": "code",
   "execution_count": null,
   "metadata": {},
   "outputs": [],
   "source": []
  },
  {
   "cell_type": "code",
   "execution_count": null,
   "metadata": {},
   "outputs": [],
   "source": []
  }
 ],
 "metadata": {
  "kernelspec": {
   "display_name": "Python 3",
   "language": "python",
   "name": "python3"
  },
  "language_info": {
   "codemirror_mode": {
    "name": "ipython",
    "version": 3
   },
   "file_extension": ".py",
   "mimetype": "text/x-python",
   "name": "python",
   "nbconvert_exporter": "python",
   "pygments_lexer": "ipython3",
   "version": "3.7.7-final"
  }
 },
 "nbformat": 4,
 "nbformat_minor": 2
}